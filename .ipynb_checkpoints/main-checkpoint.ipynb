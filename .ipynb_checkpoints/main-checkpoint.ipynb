{
 "cells": [
  {
   "cell_type": "code",
   "execution_count": 1,
   "metadata": {
    "id": "9UWJEr4lC10v"
   },
   "outputs": [
    {
     "name": "stderr",
     "output_type": "stream",
     "text": [
      "C:\\Users\\umber\\anaconda3\\lib\\site-packages\\dask\\dataframe\\utils.py:369: FutureWarning: pandas.Int64Index is deprecated and will be removed from pandas in a future version. Use pandas.Index with the appropriate dtype instead.\n",
      "  _numeric_index_types = (pd.Int64Index, pd.Float64Index, pd.UInt64Index)\n",
      "C:\\Users\\umber\\anaconda3\\lib\\site-packages\\dask\\dataframe\\utils.py:369: FutureWarning: pandas.Float64Index is deprecated and will be removed from pandas in a future version. Use pandas.Index with the appropriate dtype instead.\n",
      "  _numeric_index_types = (pd.Int64Index, pd.Float64Index, pd.UInt64Index)\n",
      "C:\\Users\\umber\\anaconda3\\lib\\site-packages\\dask\\dataframe\\utils.py:369: FutureWarning: pandas.UInt64Index is deprecated and will be removed from pandas in a future version. Use pandas.Index with the appropriate dtype instead.\n",
      "  _numeric_index_types = (pd.Int64Index, pd.Float64Index, pd.UInt64Index)\n",
      "C:\\Users\\umber\\anaconda3\\lib\\site-packages\\xgboost\\compat.py:36: FutureWarning: pandas.Int64Index is deprecated and will be removed from pandas in a future version. Use pandas.Index with the appropriate dtype instead.\n",
      "  from pandas import MultiIndex, Int64Index\n"
     ]
    }
   ],
   "source": [
    "import pandas as pd\n",
    "import numpy as np\n",
    "import matplotlib.pyplot as plt\n",
    "import seaborn as sns\n",
    "import pickle\n",
    "import copy\n",
    "\n",
    "from utils.tools import *\n",
    "\n",
    "from sklearn.preprocessing import RobustScaler\n",
    "from sklearn.preprocessing import MinMaxScaler\n",
    "from sklearn.preprocessing import StandardScaler\n",
    "from sklearn.preprocessing import OneHotEncoder\n",
    "from sklearn.model_selection import train_test_split\n",
    "from sklearn.model_selection import GridSearchCV\n",
    "from sklearn.metrics import make_scorer\n",
    "from sklearn.metrics import f1_score\n",
    "from sklearn.compose import make_column_transformer\n",
    "from sklearn.base import BaseEstimator, ClassifierMixin\n",
    "\n",
    "\n",
    "from category_encoders.target_encoder import TargetEncoder\n",
    "from imblearn.over_sampling import KMeansSMOTE\n",
    "\n",
    "from lightgbm import LGBMClassifier\n",
    "from sklearn.svm import LinearSVC\n",
    "from sklearn.svm import SVC\n",
    "from sklearn.ensemble import RandomForestClassifier\n",
    "from sklearn.ensemble import RandomForestRegressor\n",
    "from sklearn.linear_model import LogisticRegression\n",
    "\n",
    "from statsmodels.miscmodels.ordinal_model import OrderedModel\n",
    "from catboost import CatBoostClassifier\n",
    "from catboost import MetricVisualizer"
   ]
  },
  {
   "cell_type": "markdown",
   "metadata": {
    "id": "X_xBwuX9C10y"
   },
   "source": [
    "# 01 Problem Description\n",
    "\n",
    "We're trying to predict the ordinal variable damage_grade which represent a level of damage to the building that was hit by the earthquake. There are 3 grades of the damage: 1, 2, 3.\n",
    "\n",
    "#### Description of the dataset\n",
    "\n",
    "The dataset mainly consists of information on the buildings' structure and their legal ownership. Each row in the dataset represents a specific building in the region that was hit by the Gorkha earthquake.\n",
    "\n",
    "* building_id: column unique and random identifier;\n",
    "* geo_level_1_id, geo_level_2_id, geo_level_3_id: geographic region in which building exists, from largest (level 1) to most specific sub-region (level 3). Possible vaules: level 1 $\\in$ [0, 30], level 2 $\\in$ [0, 1427], level 3 $\\in$ [0, 12567];\n",
    "* count_floors_pre_eq: number of floors in the building before earthquake;\n",
    "* age: age of the building in years;\n",
    "* area_percentage: (int) normalized area of the building footprint;\n",
    "* height_percentage: (int) normalized height of the building footprint;\n",
    "* land_surface_condition: (categorical) surface condition of the land where the building was built. Possible values are: 'n', 'o', 't';\n",
    "* fundation_type: (categorical) type of fundation used while building. Possible values are: 'h', 'i', 'r', 'u', 'w';\n",
    "* roof_type: (categorical) type of roof used while building. Possible values are: 'n', 'q', 'x';\n",
    "* ground_floor_type: (categorical) type of the ground floor. Possible values are: 'f', 'm', 'v', 'x', 'z';\n",
    "* other_floor_type: (categorical) type of constructions used in higher than the ground floors (except of roof). Possible values are: 'j', 'q', 's', 'x';\n",
    "* position: (categorical) position of the building. Possible values are: 'j', 'o', 's', 't';\n",
    "* plan_configuration: (categorical) building plan configuration. Possible values are: 'a', 'c', 'd', 'f', 'm', 'n', 'o', 'q', 's', 'u';\n",
    "* has_superstructure_adobe_mud: (binary) flag variable that indicates if the superstructure was made in Adobe/Mud (adobe is a building material made from earth and organic material, it is one of the oldest material used for building structure). Notice that Adobe buildings are particularly susceptible to earthquake damage if they are not reinforced (source: Wikipedia)\n",
    "* has_superstructure_mud_mortar_stone: (binary) flag variable that indicates if the superstructure was mad of Mud Mortar - Stone (it is a mixture of sand, water and clay);\n",
    "* has_secondary_use_\\<school, ... \\>: (binary) flag variable that indicates if the building was used for <...> purposes. \n",
    "* count_families: (int) number of families that live in the building. \n",
    "* legal_ownership_status: (categorical) legal ownership status of the land where building was built. Possible values are: 'a', 'r', 'v', 'w';\n",
    "\n",
    "The data exploration analysis has been performed in the data_exploration notebook.\n",
    "\n",
    "#### Performance Metric\n",
    "\n",
    "To measure the performance of our algorithms, we'll use the F1 score which balances the precision and recall of a classifier. The variant we will use will be the micro averaged F1 score.\n",
    "\n",
    "\n",
    "\n",
    "\n"
   ]
  },
  {
   "cell_type": "markdown",
   "metadata": {
    "id": "anUttr9SC102"
   },
   "source": [
    "# 02 Data loading"
   ]
  },
  {
   "cell_type": "code",
   "execution_count": null,
   "metadata": {
    "id": "w2FqdSGJC103"
   },
   "outputs": [],
   "source": [
    "df=load_dataset()\n",
    "\n",
    "categorical_features=[\"legal_ownership_status\",\"land_surface_condition\",\n",
    "                    \"foundation_type\",\"roof_type\",\"ground_floor_type\",\"other_floor_type\",\"position\",\"plan_configuration\"]\n",
    "\n",
    "X=df.drop(columns=[\"building_id\", \"damage_grade\"])\n",
    "y=df[\"damage_grade\"]\n",
    "\n",
    "X_oneHot = pd.get_dummies(X, columns=categorical_features)"
   ]
  },
  {
   "cell_type": "markdown",
   "metadata": {
    "id": "w9R5Qe27C104"
   },
   "source": [
    "# 03 Baseline Models"
   ]
  },
  {
   "cell_type": "markdown",
   "metadata": {
    "id": "h3FusSXbC105"
   },
   "source": [
    "We're gonna create a baseline for standard machine learning model. The data will have a minimal dummy preprocessing that will transform categorical features into numerical ones. No other processing will be applied."
   ]
  },
  {
   "cell_type": "code",
   "execution_count": null,
   "metadata": {
    "id": "9tltuwX1C105",
    "outputId": "b8b602d7-4a34-4413-9c41-228cfd833cc5"
   },
   "outputs": [],
   "source": [
    "rf_baseline_model = RandomForestClassifier()\n",
    "svc_baseline_model = LinearSVC()\n",
    "lr_baseline_model = LogisticRegression()\n",
    "\n",
    "rf_baseline_model.fit(X_oneHot)\n",
    "svc_baseline_model.fit(X_oneHot)\n",
    "lr_baseline_model.fit(X_oneHot)\n",
    "\n",
    "df_test = load_dataset(train = False)\n",
    "\n",
    "building_ids = X_test['building_id']\n",
    "X_test = df.drop(columns=['building_id'])\n",
    "X_test = pd.get_dummies(X_test, columns=categorical_features)\n",
    "\n",
    "y_baseline_rf = rf_baseline_model.predict(X_test)\n",
    "y_baseline_svc = svc_baseline_model.predict(X_test)\n",
    "y_baseline_lr = lr_baseline_model.predict(X_test)\n",
    "\n",
    "X_sub_rf = pd.DataFrame(building_ids)\n",
    "X_sub_svc = pd.DataFrame(building_ids)\n",
    "X_sub_lr = pd.DataFrame(building_ids)\n",
    "\n",
    "X_sub_rf['damage_grade'] = y_baseline_rf\n",
    "X_sub_svc['damage_grade'] = y_baseline_svc\n",
    "X_sub_lr['damage_grade'] = y_baseline_lr"
   ]
  },
  {
   "cell_type": "markdown",
   "metadata": {
    "id": "6lybArfEC107"
   },
   "source": [
    "# 04 Features Creation and Features Selection"
   ]
  },
  {
   "cell_type": "markdown",
   "metadata": {
    "id": "ITHhpArhC108"
   },
   "source": [
    "We need to transform non-numerical features into numerical ones. The first step will be to create dummies of the categorical features and drop the building id. The building id should not take part in the classification since it's just an identification number."
   ]
  },
  {
   "cell_type": "markdown",
   "metadata": {
    "id": "TPLl95voC109"
   },
   "source": [
    "We are gonna incorporate all the similar features 'has_superstructure_\\*' and 'has_secondary_use_*' together through a sum operation"
   ]
  },
  {
   "cell_type": "code",
   "execution_count": null,
   "metadata": {
    "id": "afoY8kAqC109"
   },
   "outputs": [],
   "source": [
    "df = feature_compress(df)"
   ]
  },
  {
   "cell_type": "markdown",
   "metadata": {
    "id": "t8WcdLrWC10-"
   },
   "source": [
    "# 05 Features Normalization and Resampling"
   ]
  },
  {
   "cell_type": "markdown",
   "metadata": {
    "id": "XiYUm-ZTC10_"
   },
   "source": [
    "The scaling of the features, since many of them contains lots of outliers that can interfere with the scaling process, will be done with the RobustScaler.\n",
    "\n",
    "Since there is a great unbalance between the classes, we will try a resampling using a variant of SMOTE that relies on KMeans for the resampling (paper of SMOTE available on the imblearn function implementation). This function will create a balance between the classes by increasing the number of data."
   ]
  },
  {
   "cell_type": "code",
   "execution_count": null,
   "metadata": {
    "id": "9cpXSBRgC11A",
    "outputId": "85f02a14-e708-451b-9dfb-73ca3345ed8d"
   },
   "outputs": [],
   "source": [
    "oneHot_cols = ['age', 'area_percentage','count_floors_pre_eq' ,'height_percentage']\n",
    "\n",
    "df_scaled = copy.deepcopy(df)\n",
    "\n",
    "features = df_scaled[oneHot_cols]\n",
    "features, scaler = scaleFeatures(features, RobustScaler())\n",
    "df_scaled[oneHot_cols] = features\n",
    "\n",
    "\n",
    "X_scaled=df_scaled.drop(columns=[\"building_id\", \"damage_grade\"])\n",
    "y=df_scaled[\"damage_grade\"]\n",
    "\n",
    "target_cols=['geo_level_1_id', 'geo_level_2_id', 'geo_level_3_id']\n",
    "encoder= TargetEncoder(cols=target_cols)\n",
    "encoder.fit(X_scaled, y)\n",
    "X_encoded=encoder.transform(X_scaled)\n",
    "\n",
    "X_encoded = pd.get_dummies(X_encoded, categorical_features)"
   ]
  },
  {
   "cell_type": "markdown",
   "metadata": {
    "id": "Aw1-KM8HC11B"
   },
   "source": [
    "# 06 Grid-search for the classic models"
   ]
  },
  {
   "cell_type": "markdown",
   "metadata": {
    "id": "XpBwcOBTC11B"
   },
   "source": [
    "#### Random Forest Grid-Search"
   ]
  },
  {
   "cell_type": "code",
   "execution_count": null,
   "metadata": {
    "id": "hznXLItuC11C"
   },
   "outputs": [],
   "source": [
    "rf_params = {'n_estimators' : [100, 500, 1000], \n",
    "            'criterion' : ['gini', 'entropy'],\n",
    "            'min_samples_leaf' : [1, 2],\n",
    "            'min_samples_split' : [2, 5],\n",
    "            'class_weight' : ['balanced', None],\n",
    "            'random_state' :  [42]\n",
    "            }\n",
    "\n",
    "gs_rf = GridSearchCV(estimator = RandomForestClassifier(), \n",
    "                    param_grid=rf_params, \n",
    "                    n_jobs=-1, \n",
    "                    verbose=2,\n",
    "                    scoring='f1_micro',\n",
    "                    refit=True)\n",
    "\n",
    "gs_rf.fit(X_encoded, y)\n",
    "\n",
    "print(f\"BEST MODEL: {gs_rf.best_estimator_.get_params()}\")\n",
    "print(f\"BEST MEAN SCORE: {gs_rf.best_score_}\")\n",
    "\n",
    "pickle.dump(gs_rf.best_estimator_, open(\"./models/RandomForestClassifier.pkl\", \"wb\"))"
   ]
  },
  {
   "cell_type": "markdown",
   "metadata": {
    "id": "RAfXG87ZC11F"
   },
   "source": [
    "#### Random Forest Regressor Grid-Search"
   ]
  },
  {
   "cell_type": "code",
   "execution_count": null,
   "metadata": {
    "id": "6bReqPplC11G"
   },
   "outputs": [],
   "source": [
    "class RFRegressorBased(BaseEstimator, ClassifierMixin):\n",
    "    def __init__(self, n_estimators=500, criterion='squared_error', random_state=42, min_samples_split=2):\n",
    "        self.n_estimators=n_estimators\n",
    "        self.criterion=criterion\n",
    "        self.random_state=random_state\n",
    "        self.min_samples_split=min_samples_split\n",
    "        self.model=RandomForestRegressor(n_estimators=n_estimators, criterion=criterion, min_samples_split=min_samples_split, random_state=random_state)\n",
    "\n",
    "    def fit(self, X, y):\n",
    "        self.model.fit(X, y)\n",
    "    \n",
    "    def predict(self, X):\n",
    "        y_pred=self.model.predict(X)\n",
    "        y_pred=np.rint(y_pred).astype(int)\n",
    "        return y_pred"
   ]
  },
  {
   "cell_type": "code",
   "execution_count": null,
   "metadata": {
    "id": "D4rRc0LEC11I",
    "outputId": "ab800239-b064-44c4-d7f6-6ad82ab9a549"
   },
   "outputs": [],
   "source": [
    "rfr_params = {'n_estimators' : [500], \n",
    "            'criterion' : ['squared_error', 'friedman_mse'],\n",
    "            'min_samples_split':[2,5,10],\n",
    "            'random_state' :  [42]\n",
    "            }\n",
    "\n",
    "gs_rfr = GridSearchCV(estimator = RFRegressorBased(), \n",
    "                    param_grid=rfr_params, \n",
    "                    n_jobs=-1, \n",
    "                    verbose=2,\n",
    "                    cv=3,\n",
    "                    scoring='f1_micro',\n",
    "                    refit=True)\n",
    "\n",
    "gs_rfr.fit(X_encoded, y)\n",
    "\n",
    "print(f\"BEST MODEL: {gs_rfr.best_estimator_.get_params()}\")\n",
    "print(f\"BEST MEAN SCORE: {gs_rfr.best_score_}\")\n",
    "\n",
    "pickle.dump(gs_rfr.best_estimator_, open(\"./models/RandomForestRegressor.pkl\", \"wb\"))"
   ]
  },
  {
   "cell_type": "markdown",
   "metadata": {
    "id": "7JUQsgwGC11J"
   },
   "source": [
    "#### Logistic Regression Grid-Search"
   ]
  },
  {
   "cell_type": "code",
   "execution_count": null,
   "metadata": {
    "id": "5QdLJx_WC11K"
   },
   "outputs": [],
   "source": [
    "lr_params = {\n",
    "    'penalty' : ['l2', 'elasticnet'],\n",
    "    'tol' : [1e-4, 1e-6],\n",
    "    'C' : [1.0, 1.5, 2.0, 5.0],\n",
    "    'class_weight' : ['balanced'],\n",
    "    'random_state' : [42],\n",
    "    'solver' : ['newton-cg', 'sag', 'lbfgs', 'saga'],\n",
    "    'max_iter' : [1000, 5000],\n",
    "    'multi_class' : ['multinomial']\n",
    "}\n",
    "\n",
    "gs_lr = GridSearchCV(estimator = LogisticRegression(),\n",
    "                    param_grid=lr_params, \n",
    "                    n_jobs=-1, \n",
    "                    verbose=2,\n",
    "                    scoring='f1_micro',\n",
    "                    refit=True)\n",
    "\n",
    "gs_lr.fit(X_encoded, y)\n",
    "\n",
    "print(f\"BEST MODEL: {gs_lr.best_estimator_.get_params()}\")\n",
    "print(f\"BEST MEAN SCORE: {gs_lr.best_score_}\")\n",
    "\n",
    "pickle.dump(gs_lr.best_estimator_, open(\"./models/LogisticRegression.pkl\", \"wb\"))"
   ]
  },
  {
   "cell_type": "markdown",
   "metadata": {
    "id": "fZUo_bMmC11L"
   },
   "source": [
    "lr = LogisticRegression(C=1.0, \n",
    "                        class_weight='balanced', \n",
    "                        max_iter=5000, \n",
    "                        multi_class='multinomial', \n",
    "                        penalty='l2',\n",
    "                        random_state=42,\n",
    "                        solver='saga',\n",
    "                        tol=1e-4)"
   ]
  },
  {
   "cell_type": "markdown",
   "metadata": {
    "id": "xbvrQN8jC11M"
   },
   "source": [
    "#### SVM Grid-Search"
   ]
  },
  {
   "cell_type": "code",
   "execution_count": null,
   "metadata": {
    "id": "LerZxz-IC11M"
   },
   "outputs": [],
   "source": [
    "svm_params = {\n",
    "    'C' : [0.1, 1, 5],\n",
    "    'kernel' : ['rbf', 'linear'],\n",
    "    'tol' : [1e-4],\n",
    "    'verbose' : [True],\n",
    "    'random_state' : [42]\n",
    "}\n",
    "\n",
    "gs_svm = GridSearchCV(estimator = SVC(),\n",
    "                      param_grid = svm_params, \n",
    "                      n_jobs=-1, \n",
    "                      verbose = 10, \n",
    "                      scoring='f1_micro',\n",
    "                      refit=True)\n",
    "\n",
    "gs_svm.fit(X_train, y_train)\n",
    "\n",
    "print(f\"BEST MODEL: {gs_svm.best_estimator_.get_params()}\")\n",
    "print(f\"BEST MEAN SCORE: {gs_svm.best_score_}\")\n",
    "\n",
    "pickle.dump(gs_svm.best_estimator_, open(\"./models/SVM.pkl\", \"wb\"))"
   ]
  },
  {
   "cell_type": "markdown",
   "metadata": {
    "id": "qfgyAISGC11N"
   },
   "source": [
    "SVM {C:1, kernel:rbf, tol:1e-4, random_state:42}"
   ]
  },
  {
   "cell_type": "markdown",
   "metadata": {
    "id": "vfq5a9MgC11O"
   },
   "source": [
    "# 08 New Algorithms"
   ]
  },
  {
   "cell_type": "markdown",
   "metadata": {
    "id": "iOr9p8-CC11O"
   },
   "source": [
    "##### Ordinal Logistic Regression"
   ]
  },
  {
   "cell_type": "code",
   "execution_count": null,
   "metadata": {
    "id": "4GpmycXAC11P"
   },
   "outputs": [],
   "source": [
    "X_train_ord, X_test_ord, y_train_ord, y_test_ord = train_test_split(X_res, y_res)"
   ]
  },
  {
   "cell_type": "code",
   "execution_count": null,
   "metadata": {
    "id": "BC7e6MdPC11P"
   },
   "outputs": [],
   "source": [
    "mod_log = OrderedModel(y_train_ord,\n",
    "                        X_train_ord,\n",
    "                        distr='logit')\n",
    "\n",
    "res_log = mod_log.fit(method='bfgs', disp=False)\n",
    "res_log.summary()"
   ]
  },
  {
   "cell_type": "code",
   "execution_count": null,
   "metadata": {
    "id": "yqJEXHGiC11Q",
    "outputId": "edf3188b-440b-4292-bc5a-6a9c1fec1680"
   },
   "outputs": [],
   "source": [
    "predicted = res_log.model.predict(res_log.params, exog=X)\n",
    "y_pred=predicted.argmax(1)\n",
    "y_pred+1"
   ]
  },
  {
   "cell_type": "code",
   "execution_count": null,
   "metadata": {
    "id": "hiBbX-YuC11Q",
    "outputId": "45f3594c-521d-437b-c3ae-53ebaf14632d"
   },
   "outputs": [],
   "source": [
    "from sklearn.metrics import f1_score\n",
    "\n",
    "score = f1_score(y_pred+1, y, average=\"micro\")\n",
    "score"
   ]
  },
  {
   "cell_type": "code",
   "execution_count": null,
   "metadata": {
    "id": "SkT6pvBWC11R"
   },
   "outputs": [],
   "source": [
    "mod_log = OrderedModel(y_train_ord,\n",
    "                        X_train_ord,\n",
    "                        distr='probit')\n",
    "\n",
    "res_log = mod_log.fit(method='bfgs', disp=False)\n",
    "res_log.summary()\n"
   ]
  },
  {
   "cell_type": "code",
   "execution_count": null,
   "metadata": {
    "id": "cVRpHHJeC11S",
    "outputId": "d7c40d24-c689-40cd-fbfd-fb2e58bf7dfd"
   },
   "outputs": [],
   "source": [
    "predicted = res_log.model.predict(res_log.params, exog=X)\n",
    "y_pred=predicted.argmax(1)\n",
    "y_pred+1\n",
    "from sklearn.metrics import f1_score\n",
    "\n",
    "score = f1_score(y_pred+1, y, average=\"micro\")\n",
    "score"
   ]
  },
  {
   "cell_type": "code",
   "execution_count": null,
   "metadata": {
    "id": "xNta97UQC11S",
    "outputId": "4d075dde-1e8e-40f5-c89b-914393cb4ef8"
   },
   "outputs": [],
   "source": [
    "y_true=y-1\n",
    "sum=0\n",
    "total=0\n",
    "for i in range(y_true.size):\n",
    "    if(predicted[i, y_true[i]]>=0.4):\n",
    "        sum+=1\n",
    "    total+=1\n",
    "\n",
    "\n",
    "\n",
    "print(sum/total)\n",
    "\n",
    "y_true=y-1\n",
    "sum=0\n",
    "total=0\n",
    "for i in range(y_true.size):\n",
    "    if(predicted[i].argmax()==y_true[i]):\n",
    "        sum+=1\n",
    "    total+=1\n",
    "\n",
    "print(sum/total)\n"
   ]
  },
  {
   "cell_type": "markdown",
   "metadata": {
    "id": "tIF1juc-C11T"
   },
   "source": [
    "#### Light GBM"
   ]
  },
  {
   "cell_type": "code",
   "execution_count": null,
   "metadata": {
    "id": "KHNTBHHgC11T"
   },
   "outputs": [],
   "source": [
    "df=load_dataset()\n",
    "X=df.drop(columns=['building_id', 'damage_grade'])\n",
    "y=df['damage_grade']\n",
    "\n",
    "makeCatCols = [\"legal_ownership_status\",\"land_surface_condition\",\n",
    "                    \"foundation_type\",\"roof_type\",\"ground_floor_type\",\"other_floor_type\",\"position\",\"plan_configuration\"]\n",
    "\n",
    "pp = Preprocessor(compressCols=True, makeCatCols=makeCatCols)\n",
    "pp.fit(X,y)\n",
    "X=pp.transform(X)\n",
    "\n",
    "cat_index = [X.columns.get_loc(name) for name in makeCatCols]\n",
    "\n",
    "lgbm_params = {\n",
    "        \"boosting_type\":[ 'gbdt'],\n",
    "        \"num_leaves\" :[20, 30],\n",
    "        \"max_depth\" :[ -1],\n",
    "        \"learning_rate\" :[0.1, 0.01],\n",
    "        \"n_estimators\":[5000],\n",
    "        \"objective\" : [\"multiclass\"],      \n",
    "        \"feature_fraction\" :[0.5, 0.65, 0.8],\n",
    "        \"min_child_weight\" :[0.1, 0.5],\n",
    "        \"max_bin\":[4096, 8192],\n",
    "        \"verbosity\" :[1],\n",
    "        \"num_threads\":[6],\n",
    "        \"seed\":[ 42]\n",
    "        }\n",
    "\n",
    "gs_lgbm = GridSearchCV(estimator = LGBMClassifier(), \n",
    "                    param_grid=lgbm_params, \n",
    "                    verbose=2,\n",
    "                    scoring='f1_micro')\n",
    "\n",
    "gs_lgbm.fit(X, y, categorical_feature=cat_index)\n",
    "\n",
    "print(f\"BEST MODEL: {gs_lgbm.best_estimator_.get_params()}\")\n",
    "print(f\"WITH MEAN SCORE: {gs_lgbm.best_score_}\")\n",
    "\n",
    "pickle.dump(gs_lgbm.best_estimator_, open(\"./models/LightGBM.pkl\", \"wb\"))"
   ]
  },
  {
   "cell_type": "markdown",
   "metadata": {
    "id": "6CiFFsWRC11U"
   },
   "source": [
    "#### CatBoost"
   ]
  },
  {
   "cell_type": "code",
   "execution_count": null,
   "metadata": {
    "id": "SkunbmSnC11U"
   },
   "outputs": [],
   "source": [
    "makeCatCols=['geo_level_1_id','geo_level_2_id','geo_level_3_id','land_surface_condition', 'foundation_type', 'roof_type',\n",
    "       'ground_floor_type', 'other_floor_type', 'position',\n",
    "       'plan_configuration', 'legal_ownership_status','count_floors_pre_eq', 'has_superstructure_adobe_mud',\n",
    "       'has_superstructure_mud_mortar_stone', 'has_superstructure_stone_flag',\n",
    "       'has_superstructure_cement_mortar_stone',\n",
    "       'has_superstructure_mud_mortar_brick',\n",
    "       'has_superstructure_cement_mortar_brick', 'has_superstructure_timber',\n",
    "       'has_superstructure_bamboo', 'has_superstructure_rc_non_engineered',\n",
    "       'has_superstructure_rc_engineered', 'has_superstructure_other',\n",
    "       'legal_ownership_status', 'has_secondary_use',\n",
    "       'has_secondary_use_agriculture', 'has_secondary_use_hotel',\n",
    "       'has_secondary_use_rental', 'has_secondary_use_institution',\n",
    "       'has_secondary_use_school', 'has_secondary_use_industry',\n",
    "       'has_secondary_use_health_post', 'has_secondary_use_gov_office',\n",
    "       'has_secondary_use_use_police', 'has_secondary_use_other', 'number_of_different_superstructures', 'number_of_secondary_uses']\n",
    "\n",
    "\n",
    "df_cat = load_dataset()\n",
    "\n",
    "X=df.drop(columns=['building_id', 'damage_grade'])\n",
    "y=df['damage_grade']\n",
    "\n",
    "pp = Preprocessor(compressCols=True, makeCatCols=makeCatCols)\n",
    "\n",
    "pp.fit(X,y)\n",
    "X=pp.transform(X)\n",
    "\n",
    "catboost_params = {\n",
    "    'iterations' : [500, 1000, 2000, 5000],\n",
    "    'learning_rate' : [0.02, 0.05, 0.07],\n",
    "    'depth' : [9, 10, 12],\n",
    "    'loss_function' : ['MultiClass'],\n",
    "    'verbose' : [False],\n",
    "    'eval_metric' : ['TotalF1'],\n",
    "    'l2_leaf_reg' : [1, 2, 5, 9],\n",
    "    'border_count' : [None, 11, 15],\n",
    "    'task_type' : ['GPU']\n",
    "}\n",
    "\n",
    "gs_cat = GridSearchCV(estimator=CatBoostClassifier())\n",
    "\n",
    "gs_cat.fit(X, y, verbose=10, cat_features=makeCatCols)\n",
    "\n",
    "print(f\"BEST MODEL: {gs_cat.best_estimator_.get_params()}\")\n",
    "print(f\"WITH MEAN SCORE: {gs_cat.best_score_}\")\n",
    "\n",
    "pickle.dump(gs_cat.best_estimator_, open(\"./models/CatBoostClassifier.pkl\", \"wb\"))"
   ]
  },
  {
   "cell_type": "markdown",
   "metadata": {},
   "source": [
    "Best: {iterations: 5000, learning_rate: 0.05, depth: 9, loss_function: Multiclass, verbose:false, eval_metric:TotalF1, l2_leaf_reg : 2, border_count:None}"
   ]
  },
  {
   "cell_type": "markdown",
   "metadata": {
    "id": "WiVPVl3iC11V"
   },
   "source": [
    "# Confusion matrix"
   ]
  },
  {
   "cell_type": "markdown",
   "metadata": {},
   "source": [
    "#### Logistic Regression"
   ]
  },
  {
   "cell_type": "code",
   "execution_count": null,
   "metadata": {
    "id": "7-ar5McxC11c",
    "outputId": "693533a2-07e3-42f7-a9e6-989372f3a451"
   },
   "outputs": [],
   "source": [
    "oneHotCols = [\"legal_ownership_status\",\"land_surface_condition\",\n",
    "                    \"foundation_type\",\"roof_type\",\"ground_floor_type\",\"other_floor_type\",\"position\",\"plan_configuration\"]\n",
    "targetCols = ['geo_level_1_id', 'geo_level_2_id', 'geo_level_3_id']\n",
    "scaledCols = ['age', 'area_percentage','count_floors_pre_eq' ,'height_percentage']\n",
    "\n",
    "\n",
    "df_logit = load_dataset()\n",
    "\n",
    "X_ = df_logit.drop(columns=[\"building_id\", \"damage_grade\"])\n",
    "y = df_logit[\"damage_grade\"]\n",
    "\n",
    "pp = Preprocessor(oneHotCols=oneHotCols, targetCols=targetCols, scaledCols=scaledCols)\n",
    "\n",
    "pp.fit(X, y)\n",
    "\n",
    "X = pp.transform(X)\n",
    "\n",
    "X_train, X_test, y_train, y_test = train_test_split(X, y, stratify=y)\n",
    "\n",
    "log_model = pickle.load(open(\"./models/LogisticRegression.pkl\"))\n",
    "\n",
    "log_model.fit(X_train, y_train)\n",
    "\n",
    "y_pred = log_model.predict(X_test)\n",
    "\n",
    "print(f\"GOT F1-SCORE OF: {f1_score(y_pred, y_test, average = 'micro')}\")\n",
    "\n",
    "get_confusion_matrix(log_model, X_test, y_test, y_pred)"
   ]
  },
  {
   "cell_type": "markdown",
   "metadata": {},
   "source": [
    "#### SVM"
   ]
  },
  {
   "cell_type": "code",
   "execution_count": null,
   "metadata": {},
   "outputs": [],
   "source": [
    "oneHotCols = [\"legal_ownership_status\",\"land_surface_condition\",\n",
    "                    \"foundation_type\",\"roof_type\",\"ground_floor_type\",\"other_floor_type\",\"position\",\"plan_configuration\"]\n",
    "targetCols = ['geo_level_1_id', 'geo_level_2_id', 'geo_level_3_id']\n",
    "scaledCols = ['age', 'area_percentage','count_floors_pre_eq' ,'height_percentage']\n",
    "\n",
    "\n",
    "df_svm = load_dataset()\n",
    "\n",
    "X_ = df_svm.drop(columns=[\"building_id\", \"damage_grade\"])\n",
    "y = df_svm[\"damage_grade\"]\n",
    "\n",
    "pp = Preprocessor(oneHotCols=oneHotCols, targetCols=targetCols, scaledCols=scaledCols)\n",
    "\n",
    "pp.fit(X, y)\n",
    "\n",
    "X = pp.transform(X)\n",
    "\n",
    "X_train, X_test, y_train, y_test = train_test_split(X, y, stratify=y)\n",
    "\n",
    "svm_model = pickle.load(open(\"./models/SVM.pkl\"))\n",
    "\n",
    "svm_model.fit(X_train, y_train)\n",
    "\n",
    "y_pred = svm_model.predict(X_test)\n",
    "\n",
    "print(f\"GOT F1-SCORE OF: {f1_score(y_pred, y_test, average = 'micro')}\")\n",
    "\n",
    "get_confusion_matrix(svm_model, X_test, y_test, y_pred)"
   ]
  },
  {
   "cell_type": "markdown",
   "metadata": {
    "id": "e5_wyvxYC11f"
   },
   "source": [
    "LightGBM results using these hyperparameters:\n",
    "        \"objective\" : \"multiclass\",\n",
    "        \"num_class\":3,\n",
    "        \"metric\" : \"multi_error\",\n",
    "        \"boosting\": 'gbdt',\n",
    "        \"max_depth\" : -1,\n",
    "        \"num_leaves\" : 30,\n",
    "        \"learning_rate\" : 0.1,\n",
    "        \"feature_fraction\" : 0.5,\n",
    "        \"min_sum_hessian_in_leaf\" : 0.1,\n",
    "        \"max_bin\":8192,\n",
    "        \"verbosity\" : 1,\n",
    "        \"num_threads\":6,\n",
    "        \"seed\": 42\n",
    "\n",
    "\n",
    "\n",
    "Original dataset:               0.7483538241930285\n",
    "\n",
    "Without age=995:                0.7463389040630833\n",
    "\n",
    "With aggregate features:        0.7487375481573575\n",
    "\n",
    "\n"
   ]
  },
  {
   "cell_type": "markdown",
   "metadata": {},
   "source": [
    "#### CatBoost"
   ]
  },
  {
   "cell_type": "code",
   "execution_count": 4,
   "metadata": {},
   "outputs": [
    {
     "ename": "KeyError",
     "evalue": "'number_of_se condary_uses'",
     "output_type": "error",
     "traceback": [
      "\u001b[1;31m---------------------------------------------------------------------------\u001b[0m",
      "\u001b[1;31mKeyError\u001b[0m                                  Traceback (most recent call last)",
      "\u001b[1;32m~\\anaconda3\\lib\\site-packages\\pandas\\core\\indexes\\base.py\u001b[0m in \u001b[0;36mget_loc\u001b[1;34m(self, key, method, tolerance)\u001b[0m\n\u001b[0;32m   3620\u001b[0m             \u001b[1;32mtry\u001b[0m\u001b[1;33m:\u001b[0m\u001b[1;33m\u001b[0m\u001b[1;33m\u001b[0m\u001b[0m\n\u001b[1;32m-> 3621\u001b[1;33m                 \u001b[1;32mreturn\u001b[0m \u001b[0mself\u001b[0m\u001b[1;33m.\u001b[0m\u001b[0m_engine\u001b[0m\u001b[1;33m.\u001b[0m\u001b[0mget_loc\u001b[0m\u001b[1;33m(\u001b[0m\u001b[0mcasted_key\u001b[0m\u001b[1;33m)\u001b[0m\u001b[1;33m\u001b[0m\u001b[1;33m\u001b[0m\u001b[0m\n\u001b[0m\u001b[0;32m   3622\u001b[0m             \u001b[1;32mexcept\u001b[0m \u001b[0mKeyError\u001b[0m \u001b[1;32mas\u001b[0m \u001b[0merr\u001b[0m\u001b[1;33m:\u001b[0m\u001b[1;33m\u001b[0m\u001b[1;33m\u001b[0m\u001b[0m\n",
      "\u001b[1;32m~\\anaconda3\\lib\\site-packages\\pandas\\_libs\\index.pyx\u001b[0m in \u001b[0;36mpandas._libs.index.IndexEngine.get_loc\u001b[1;34m()\u001b[0m\n",
      "\u001b[1;32m~\\anaconda3\\lib\\site-packages\\pandas\\_libs\\index.pyx\u001b[0m in \u001b[0;36mpandas._libs.index.IndexEngine.get_loc\u001b[1;34m()\u001b[0m\n",
      "\u001b[1;32mpandas\\_libs\\hashtable_class_helper.pxi\u001b[0m in \u001b[0;36mpandas._libs.hashtable.PyObjectHashTable.get_item\u001b[1;34m()\u001b[0m\n",
      "\u001b[1;32mpandas\\_libs\\hashtable_class_helper.pxi\u001b[0m in \u001b[0;36mpandas._libs.hashtable.PyObjectHashTable.get_item\u001b[1;34m()\u001b[0m\n",
      "\u001b[1;31mKeyError\u001b[0m: 'number_of_se condary_uses'",
      "\nThe above exception was the direct cause of the following exception:\n",
      "\u001b[1;31mKeyError\u001b[0m                                  Traceback (most recent call last)",
      "\u001b[1;32m<ipython-input-4-bc78c3fa4313>\u001b[0m in \u001b[0;36m<module>\u001b[1;34m\u001b[0m\n\u001b[0;32m     24\u001b[0m \u001b[1;33m\u001b[0m\u001b[0m\n\u001b[0;32m     25\u001b[0m \u001b[0mpp\u001b[0m\u001b[1;33m.\u001b[0m\u001b[0mfit\u001b[0m\u001b[1;33m(\u001b[0m\u001b[0mX\u001b[0m\u001b[1;33m,\u001b[0m\u001b[0my\u001b[0m\u001b[1;33m)\u001b[0m\u001b[1;33m\u001b[0m\u001b[1;33m\u001b[0m\u001b[0m\n\u001b[1;32m---> 26\u001b[1;33m \u001b[0mX\u001b[0m \u001b[1;33m=\u001b[0m \u001b[0mpp\u001b[0m\u001b[1;33m.\u001b[0m\u001b[0mtransform\u001b[0m\u001b[1;33m(\u001b[0m\u001b[0mX\u001b[0m\u001b[1;33m)\u001b[0m\u001b[1;33m\u001b[0m\u001b[1;33m\u001b[0m\u001b[0m\n\u001b[0m\u001b[0;32m     27\u001b[0m \u001b[1;33m\u001b[0m\u001b[0m\n\u001b[0;32m     28\u001b[0m cat_model = CatBoostClassifier(\n",
      "\u001b[1;32m~\\Desktop\\Università\\Data Science\\Machine Learning and Intelligent Systems\\Project\\utils\\tools.py\u001b[0m in \u001b[0;36mtransform\u001b[1;34m(self, X)\u001b[0m\n\u001b[0;32m    121\u001b[0m         \u001b[1;32mif\u001b[0m \u001b[0mself\u001b[0m\u001b[1;33m.\u001b[0m\u001b[0mmakeCatCols\u001b[0m \u001b[1;33m!=\u001b[0m \u001b[1;32mNone\u001b[0m\u001b[1;33m:\u001b[0m\u001b[1;33m\u001b[0m\u001b[1;33m\u001b[0m\u001b[0m\n\u001b[0;32m    122\u001b[0m             \u001b[1;32mfor\u001b[0m \u001b[0mf\u001b[0m \u001b[1;32min\u001b[0m \u001b[0mself\u001b[0m\u001b[1;33m.\u001b[0m\u001b[0mmakeCatCols\u001b[0m\u001b[1;33m:\u001b[0m\u001b[1;33m\u001b[0m\u001b[1;33m\u001b[0m\u001b[0m\n\u001b[1;32m--> 123\u001b[1;33m                 \u001b[0mX\u001b[0m\u001b[1;33m[\u001b[0m\u001b[0mf\u001b[0m\u001b[1;33m]\u001b[0m \u001b[1;33m=\u001b[0m \u001b[0mpd\u001b[0m\u001b[1;33m.\u001b[0m\u001b[0mSeries\u001b[0m\u001b[1;33m(\u001b[0m\u001b[0mX\u001b[0m\u001b[1;33m[\u001b[0m\u001b[0mf\u001b[0m\u001b[1;33m]\u001b[0m\u001b[1;33m,\u001b[0m \u001b[0mdtype\u001b[0m \u001b[1;33m=\u001b[0m \u001b[1;34m'category'\u001b[0m\u001b[1;33m)\u001b[0m\u001b[1;33m\u001b[0m\u001b[1;33m\u001b[0m\u001b[0m\n\u001b[0m\u001b[0;32m    124\u001b[0m \u001b[1;33m\u001b[0m\u001b[0m\n\u001b[0;32m    125\u001b[0m         \u001b[1;32mreturn\u001b[0m \u001b[0mX\u001b[0m\u001b[1;33m\u001b[0m\u001b[1;33m\u001b[0m\u001b[0m\n",
      "\u001b[1;32m~\\anaconda3\\lib\\site-packages\\pandas\\core\\frame.py\u001b[0m in \u001b[0;36m__getitem__\u001b[1;34m(self, key)\u001b[0m\n\u001b[0;32m   3503\u001b[0m             \u001b[1;32mif\u001b[0m \u001b[0mself\u001b[0m\u001b[1;33m.\u001b[0m\u001b[0mcolumns\u001b[0m\u001b[1;33m.\u001b[0m\u001b[0mnlevels\u001b[0m \u001b[1;33m>\u001b[0m \u001b[1;36m1\u001b[0m\u001b[1;33m:\u001b[0m\u001b[1;33m\u001b[0m\u001b[1;33m\u001b[0m\u001b[0m\n\u001b[0;32m   3504\u001b[0m                 \u001b[1;32mreturn\u001b[0m \u001b[0mself\u001b[0m\u001b[1;33m.\u001b[0m\u001b[0m_getitem_multilevel\u001b[0m\u001b[1;33m(\u001b[0m\u001b[0mkey\u001b[0m\u001b[1;33m)\u001b[0m\u001b[1;33m\u001b[0m\u001b[1;33m\u001b[0m\u001b[0m\n\u001b[1;32m-> 3505\u001b[1;33m             \u001b[0mindexer\u001b[0m \u001b[1;33m=\u001b[0m \u001b[0mself\u001b[0m\u001b[1;33m.\u001b[0m\u001b[0mcolumns\u001b[0m\u001b[1;33m.\u001b[0m\u001b[0mget_loc\u001b[0m\u001b[1;33m(\u001b[0m\u001b[0mkey\u001b[0m\u001b[1;33m)\u001b[0m\u001b[1;33m\u001b[0m\u001b[1;33m\u001b[0m\u001b[0m\n\u001b[0m\u001b[0;32m   3506\u001b[0m             \u001b[1;32mif\u001b[0m \u001b[0mis_integer\u001b[0m\u001b[1;33m(\u001b[0m\u001b[0mindexer\u001b[0m\u001b[1;33m)\u001b[0m\u001b[1;33m:\u001b[0m\u001b[1;33m\u001b[0m\u001b[1;33m\u001b[0m\u001b[0m\n\u001b[0;32m   3507\u001b[0m                 \u001b[0mindexer\u001b[0m \u001b[1;33m=\u001b[0m \u001b[1;33m[\u001b[0m\u001b[0mindexer\u001b[0m\u001b[1;33m]\u001b[0m\u001b[1;33m\u001b[0m\u001b[1;33m\u001b[0m\u001b[0m\n",
      "\u001b[1;32m~\\anaconda3\\lib\\site-packages\\pandas\\core\\indexes\\base.py\u001b[0m in \u001b[0;36mget_loc\u001b[1;34m(self, key, method, tolerance)\u001b[0m\n\u001b[0;32m   3621\u001b[0m                 \u001b[1;32mreturn\u001b[0m \u001b[0mself\u001b[0m\u001b[1;33m.\u001b[0m\u001b[0m_engine\u001b[0m\u001b[1;33m.\u001b[0m\u001b[0mget_loc\u001b[0m\u001b[1;33m(\u001b[0m\u001b[0mcasted_key\u001b[0m\u001b[1;33m)\u001b[0m\u001b[1;33m\u001b[0m\u001b[1;33m\u001b[0m\u001b[0m\n\u001b[0;32m   3622\u001b[0m             \u001b[1;32mexcept\u001b[0m \u001b[0mKeyError\u001b[0m \u001b[1;32mas\u001b[0m \u001b[0merr\u001b[0m\u001b[1;33m:\u001b[0m\u001b[1;33m\u001b[0m\u001b[1;33m\u001b[0m\u001b[0m\n\u001b[1;32m-> 3623\u001b[1;33m                 \u001b[1;32mraise\u001b[0m \u001b[0mKeyError\u001b[0m\u001b[1;33m(\u001b[0m\u001b[0mkey\u001b[0m\u001b[1;33m)\u001b[0m \u001b[1;32mfrom\u001b[0m \u001b[0merr\u001b[0m\u001b[1;33m\u001b[0m\u001b[1;33m\u001b[0m\u001b[0m\n\u001b[0m\u001b[0;32m   3624\u001b[0m             \u001b[1;32mexcept\u001b[0m \u001b[0mTypeError\u001b[0m\u001b[1;33m:\u001b[0m\u001b[1;33m\u001b[0m\u001b[1;33m\u001b[0m\u001b[0m\n\u001b[0;32m   3625\u001b[0m                 \u001b[1;31m# If we have a listlike key, _check_indexing_error will raise\u001b[0m\u001b[1;33m\u001b[0m\u001b[1;33m\u001b[0m\u001b[1;33m\u001b[0m\u001b[0m\n",
      "\u001b[1;31mKeyError\u001b[0m: 'number_of_se condary_uses'"
     ]
    }
   ],
   "source": [
    "makeCatCols=['geo_level_1_id','geo_level_2_id','geo_level_3_id','land_surface_condition', 'foundation_type', 'roof_type',\n",
    "       'ground_floor_type', 'other_floor_type', 'position',\n",
    "       'plan_configuration', 'legal_ownership_status','count_floors_pre_eq', 'has_superstructure_adobe_mud',\n",
    "       'has_superstructure_mud_mortar_stone', 'has_superstructure_stone_flag',\n",
    "       'has_superstructure_cement_mortar_stone',\n",
    "       'has_superstructure_mud_mortar_brick',\n",
    "       'has_superstructure_cement_mortar_brick', 'has_superstructure_timber',\n",
    "       'has_superstructure_bamboo', 'has_superstructure_rc_non_engineered',\n",
    "       'has_superstructure_rc_engineered', 'has_superstructure_other',\n",
    "       'legal_ownership_status', 'has_secondary_use',\n",
    "       'has_secondary_use_agriculture', 'has_secondary_use_hotel',\n",
    "       'has_secondary_use_rental', 'has_secondary_use_institution',\n",
    "       'has_secondary_use_school', 'has_secondary_use_industry',\n",
    "       'has_secondary_use_health_post', 'has_secondary_use_gov_office',\n",
    "       'has_secondary_use_use_police', 'has_secondary_use_other', 'number_of_different_superstructures', 'number_of_secondary_uses']\n",
    "\n",
    "\n",
    "df_cat = load_dataset()\n",
    "\n",
    "X = df_cat.drop(columns=['building_id', 'damage_grade'])\n",
    "y = df_cat['damage_grade']\n",
    "\n",
    "pp = Preprocessor(compressCols=True, makeCatCols=makeCatCols)\n",
    "\n",
    "pp.fit(X,y)\n",
    "X = pp.transform(X)\n",
    "\n",
    "cat_model = CatBoostClassifier(\n",
    "       iterations=5000, \n",
    "       learning_rate=0.05,\n",
    "       depth=9,\n",
    "       l2_leaf_reg=5,\n",
    "       loss_function='MultiClass',\n",
    "       eval_metric='TotalF1',\n",
    "       task_type='GPU'\n",
    ")\n",
    "\n",
    "X_train, X_test, y_train, y_test = train_test_split(X, y, stratify=y)\n",
    "\n",
    "cat_model.fit(X_train, y, cat_features=makeCatCols)\n",
    "\n",
    "y_pred = cat_model.predict(X_test)\n",
    "\n",
    "print(f\"GOT F1-SCORE OF: {f1_score(y_pred, y_test, average = 'micro')}\")\n",
    "\n",
    "get_confusion_matrix(cat_model, X_test, y_test, y_pred)"
   ]
  },
  {
   "cell_type": "code",
   "execution_count": 16,
   "metadata": {},
   "outputs": [
    {
     "data": {
      "text/plain": [
       "<AxesSubplot:>"
      ]
     },
     "execution_count": 16,
     "metadata": {},
     "output_type": "execute_result"
    },
    {
     "data": {
      "image/png": "[encoded data removed]",
      "text/plain": [
       "<Figure size 432x288 with 1 Axes>"
      ]
     },
     "metadata": {
      "needs_background": "light"
     },
     "output_type": "display_data"
    }
   ],
   "source": [
    "import seaborn as sns\n",
    "import matplotlib.pyplot as plt\n",
    "\n",
    "\n",
    "results_metrics = pd.read_csv(\"./catboost_info/learn_error.tsv\", sep=\"\\t\")\n",
    "\n",
    "\n",
    "results = results.drop(columns = ['iter'])\n",
    "\n",
    "sns.lineplot(results)"
   ]
  },
  {
   "cell_type": "markdown",
   "metadata": {},
   "source": [
    "#### LightGBM"
   ]
  },
  {
   "cell_type": "code",
   "execution_count": null,
   "metadata": {},
   "outputs": [],
   "source": [
    "df=load_dataset()\n",
    "\n",
    "X=df.drop(columns=['building_id', 'damage_grade'])\n",
    "y=df['damage_grade']\n",
    "\n",
    "makeCatCols = [\"legal_ownership_status\",\"land_surface_condition\",\n",
    "                    \"foundation_type\",\"roof_type\",\"ground_floor_type\",\"other_floor_type\",\"position\",\"plan_configuration\"]\n",
    "\n",
    "targetCols = ['geo_level_1_id', 'geo_level_2_id', 'geo_level_3_id']\n",
    "\n",
    "pp = Preprocessor(compressCols=True, makeCatCols=makeCatCols, targetCols=targetCols)\n",
    "pp.fit(X,y)\n",
    "X=pp.transform(X)\n",
    "\n",
    "cat_index = [X.columns.get_loc(name) for name in makeCatCols]\n",
    "\n",
    "\n",
    "lgbm_model = LGBMClassifier(boosting_type='gbdt', \n",
    "                            feature_fraction=0.5, \n",
    "                            learning_rate=0.05, \n",
    "                            max_bin=8192,\n",
    "                            max_depth=-1,\n",
    "                            min_child_weight=0.1,\n",
    "                            n_estimators=5000,\n",
    "                            num_leaves=30,\n",
    "                            num_threads=6,\n",
    "                            objective='multiclass',\n",
    "                            seed=42,\n",
    "                            verbosity=1)\n",
    "\n",
    "\n",
    "X_train, X_test, y_train, y_test = train_test_split(X, y, stratify=y)          \n",
    "\n",
    "lgbm_model.fit(X_train, y_train, categorical_feature=cat_index)\n",
    "\n",
    "y_pred = lgbm_model.predict(X_test)\n",
    "\n",
    "print(f\"GOT F1-SCORE OF: {f1_score(y_pred, y_test, average = 'micro')}\")\n",
    "\n",
    "get_confusion_matrix(y_test, y_pred)"
   ]
  },
  {
   "cell_type": "markdown",
   "metadata": {
    "id": "Vjm4wWEsC11i"
   },
   "source": [
    "# Submission"
   ]
  },
  {
   "cell_type": "markdown",
   "metadata": {
    "id": "aYuRRyjXC11j"
   },
   "source": [
    "The preprocessing is different from each model, for this reason, we're gonna make different sections for each different model."
   ]
  },
  {
   "cell_type": "markdown",
   "metadata": {},
   "source": [
    "#### Logistic Regression"
   ]
  },
  {
   "cell_type": "code",
   "execution_count": 3,
   "metadata": {},
   "outputs": [
    {
     "name": "stderr",
     "output_type": "stream",
     "text": [
      "C:\\Users\\umber\\anaconda3\\lib\\site-packages\\category_encoders\\target_encoder.py:122: FutureWarning: Default parameter min_samples_leaf will change in version 2.6.See https://github.com/scikit-learn-contrib/category_encoders/issues/327\n",
      "  warnings.warn(\"Default parameter min_samples_leaf will change in version 2.6.\"\n",
      "C:\\Users\\umber\\anaconda3\\lib\\site-packages\\category_encoders\\target_encoder.py:127: FutureWarning: Default parameter smoothing will change in version 2.6.See https://github.com/scikit-learn-contrib/category_encoders/issues/327\n",
      "  warnings.warn(\"Default parameter smoothing will change in version 2.6.\"\n"
     ]
    }
   ],
   "source": [
    "lr_model = LogisticRegression(C=1.0, \n",
    "                        max_iter=10000, \n",
    "                        multi_class='multinomial', \n",
    "                        penalty='l2', \n",
    "                        random_state=42, \n",
    "                        solver='saga', \n",
    "                        tol=1e-4)\n",
    "\n",
    "\n",
    "# The preprocessing of the SVM is very similar to the one for the Random Forest. The only difference is that the database needs to be scaled. \n",
    "\n",
    "oneHotCols = [\"legal_ownership_status\",\"land_surface_condition\",\n",
    "                    \"foundation_type\",\"roof_type\",\"ground_floor_type\",\"other_floor_type\",\"position\",\"plan_configuration\"]\n",
    "targetCols = ['geo_level_1_id', 'geo_level_2_id', 'geo_level_3_id']\n",
    "scaledCols = ['age', 'area_percentage','count_floors_pre_eq' ,'height_percentage']\n",
    "\n",
    "\n",
    "df_lr = load_dataset()\n",
    "\n",
    "X_train = df_lr.drop(columns=[\"building_id\", \"damage_grade\"])\n",
    "y = df_lr[\"damage_grade\"]\n",
    "\n",
    "pp = Preprocessor(oneHotCols=oneHotCols, targetCols=targetCols, scaledCols=scaledCols)\n",
    "\n",
    "pp.fit(X_train, y)\n",
    "\n",
    "X_train = pp.transform(X_train)\n",
    "\n",
    "lr_model.fit(X_train, y)\n",
    "\n",
    "pickle.dump(lr_model, open(\"./models/LogisticRegression.pkl\", \"wb\"))\n",
    "\n",
    "###### TEST\n",
    "\n",
    "X_test = load_dataset(train = False)\n",
    "\n",
    "building_ids = X_test['building_id']\n",
    "X_test = X_test.drop(columns=['building_id'])\n",
    "\n",
    "X_test = pp.transform(X_test)\n",
    "\n",
    "\n",
    "\n",
    "# lr_model = pickle.load(open(\"./models/SVM.pkl\", \"rb\"))\n",
    "\n",
    "y_pred_lr = lr_model.predict(X_test)\n",
    "y_pred_proba_lr = lr_model.predict_proba(X_test)"
   ]
  },
  {
   "cell_type": "code",
   "execution_count": 5,
   "metadata": {},
   "outputs": [],
   "source": [
    "X_sub_lr = pd.DataFrame(building_ids)\n",
    "X_sub_lr['damage_grade'] = y_pred_lr\n",
    "\n",
    "X_sub_lr.to_csv(f\"./prediction/LogisticRegression_sub.csv\", index = False)"
   ]
  },
  {
   "cell_type": "markdown",
   "metadata": {
    "id": "o_svLAwqC11j"
   },
   "source": [
    "#### Random Forest Classifier"
   ]
  },
  {
   "cell_type": "code",
   "execution_count": null,
   "metadata": {
    "id": "XFiE7w9yC11j"
   },
   "outputs": [],
   "source": [
    "# GET TRAINING DATASET AND APPLY ALL THE PREPROCESSING \n",
    "\n",
    "oneHotCols = [\"legal_ownership_status\",\"land_surface_condition\",\n",
    "                    \"foundation_type\",\"roof_type\",\"ground_floor_type\",\"other_floor_type\",\"position\",\"plan_configuration\"]\n",
    "                    \n",
    "targetCols = ['geo_level_1_id', 'geo_level_2_id', 'geo_level_3_id']\n",
    "\n",
    "df_rf = load_dataset()\n",
    "\n",
    "X_train = df_rf.drop(columns=[\"building_id\", \"damage_grade\"])\n",
    "y = df_rf[\"damage_grade\"]\n",
    "\n",
    "pp = Preprocessor(oneHotCols=oneHotCols, targetCols=targetCols)\n",
    "\n",
    "X_train = pp.fit(X_train, y)\n",
    "\n",
    "###### TEST\n",
    "\n",
    "X_test = load_dataset(train = False)\n",
    "\n",
    "X_test = X_test.drop(columns=['building_id'])\n",
    "\n",
    "X_test = pp.transform(X_test)\n",
    "\n",
    "rf_model = pickle.load(open(\"./models/RandomForestClassifier.pkl\", \"rb\"))\n",
    "\n",
    "y_pred_rf = rf_model.predict(X_test)\n",
    "y_pred_proba_rf = rf_model.predict_proba(X_test)"
   ]
  },
  {
   "cell_type": "code",
   "execution_count": null,
   "metadata": {
    "id": "fjyLZ2_mC11k"
   },
   "outputs": [],
   "source": [
    "###### SUBMISSION\n",
    "\n",
    "X_sub_rf = pd.DataFrame(building_ids)\n",
    "X_sub_rf['damage_grade'] = y_pred_rf\n",
    "\n",
    "X_sub_rf.to_csv(f\"./prediction/RandomForestClassifier_sub.csv\", index = False)"
   ]
  },
  {
   "cell_type": "markdown",
   "metadata": {
    "id": "Okj3WzLtC11l"
   },
   "source": [
    "#### SVM"
   ]
  },
  {
   "cell_type": "code",
   "execution_count": null,
   "metadata": {
    "id": "MfJgw-XkC11l"
   },
   "outputs": [],
   "source": [
    "# The preprocessing of the SVM is very similar to the one for the Random Forest. The only difference is that the database needs to be scaled. \n",
    "\n",
    "oneHotCols = [\"legal_ownership_status\",\"land_surface_condition\",\n",
    "                    \"foundation_type\",\"roof_type\",\"ground_floor_type\",\"other_floor_type\",\"position\",\"plan_configuration\"]\n",
    "targetCols = ['geo_level_1_id', 'geo_level_2_id', 'geo_level_3_id']\n",
    "scaledCols = ['age', 'area_percentage','count_floors_pre_eq' ,'height_percentage']\n",
    "\n",
    "\n",
    "df_svm = load_dataset()\n",
    "\n",
    "X_train = df_svm.drop(columns=[\"building_id\", \"damage_grade\"])\n",
    "y = df_svm[\"damage_grade\"]\n",
    "\n",
    "pp = Preprocessor(oneHotCols=oneHotCols, targetCols=targetCols, scaledCols=scaledCols)\n",
    "\n",
    "pp.fit(X_train, y)\n",
    "\n",
    "X_train = pp.transform(X_train)\n",
    "\n",
    "###### TEST\n",
    "\n",
    "X_test = load_dataset(train = False)\n",
    "\n",
    "building_ids = X_test['building_id']\n",
    "X_test = X_test.drop(columns=['building_id'])\n",
    "\n",
    "X_test = pp.transform(X_test)\n",
    "\n",
    "\n",
    "\n",
    "svm_model = pickle.load(open(\"./models/SVM.pkl\", \"rb\"))\n",
    "\n",
    "y_pred_svm = svm_model.predict(X_test)\n",
    "y_pred_proba_svm = svm_model.predict_proba(X_test)"
   ]
  },
  {
   "cell_type": "code",
   "execution_count": null,
   "metadata": {
    "id": "ba30cqNqC11m"
   },
   "outputs": [],
   "source": [
    "X_sub_svm = pd.DataFrame(building_ids)\n",
    "X_sub_svm['damage_grade'] = y_pred_svm\n",
    "\n",
    "X_sub_svm.to_csv(f\"./prediction/SVM_sub.csv\", index = False)"
   ]
  },
  {
   "cell_type": "markdown",
   "metadata": {
    "id": "8VWdbnQtC79t"
   },
   "source": [
    "#### LightGBM"
   ]
  },
  {
   "cell_type": "code",
   "execution_count": null,
   "metadata": {
    "id": "Pji_5IgxIDbp"
   },
   "outputs": [],
   "source": [
    "df=load_dataset()\n",
    "\n",
    "X_train=df.drop(columns=['building_id', 'damage_grade'])\n",
    "y=df['damage_grade']\n",
    "\n",
    "makeCatCols = [\"legal_ownership_status\",\"land_surface_condition\",\n",
    "                    \"foundation_type\",\"roof_type\",\"ground_floor_type\",\"other_floor_type\",\"position\",\"plan_configuration\"]\n",
    "\n",
    "targetCols = ['geo_level_1_id', 'geo_level_2_id', 'geo_level_3_id']\n",
    "\n",
    "pp = Preprocessor(compressCols=True, makeCatCols=makeCatCols, targetCols=targetCols)\n",
    "pp.fit(X_train,y)\n",
    "X_train=pp.transform(X_train)\n",
    "\n",
    "cat_index = [X_train.columns.get_loc(name) for name in makeCatCols]\n",
    "\n",
    "\n",
    "lgbm_model = pickle.load(open(\"./models/LightGBM.pkl\", \"rb\"))\n",
    "\n",
    "\n",
    "lgbm_model = LGBMClassifier(boosting_type='gbdt', \n",
    "                            feature_fraction=0.5, \n",
    "                            learning_rate=0.05, \n",
    "                            max_bin=8192,\n",
    "                            max_depth=-1,\n",
    "                            min_child_weight=0.1,\n",
    "                            n_estimators=5000,\n",
    "                            num_leaves=30,\n",
    "                            num_threads=6,\n",
    "                            objective='multiclass',\n",
    "                            seed=42,\n",
    "                            verbosity=1)\n",
    "                            \n",
    "lgbm_model.fit(X_train, y, categorical_feature=cat_index)\n",
    "\n",
    "pickle.dump(lgbm_model, open(\"./models/LightGBM.pkl\", \"wb\"))\n",
    "\n",
    "###### TEST\n",
    "\n",
    "X_test = load_dataset(train=False)\n",
    "\n",
    "building_ids = X_test['building_id']\n",
    "X_test = X_test.drop(columns=['building_id'])\n",
    "\n",
    "X_test = pp.transform(X_test)\n",
    "\n",
    "y_pred_lgbm = lgbm_model.predict(X_test)\n",
    "y_pred_proba_lgbm = lgbm_model.predict_proba(X_test)"
   ]
  },
  {
   "cell_type": "code",
   "execution_count": null,
   "metadata": {
    "id": "bp7QOB6NPINj"
   },
   "outputs": [],
   "source": [
    "X_sub_lgbm = pd.DataFrame(building_ids)\n",
    "X_sub_lgbm['damage_grade'] = y_pred_lgbm\n",
    "\n",
    "X_sub_lgbm.to_csv(f\"./prediction/LightGBM_sub.csv\", index = False)"
   ]
  },
  {
   "cell_type": "markdown",
   "metadata": {
    "id": "h83f9OmGt7YO"
   },
   "source": [
    "#### CatBoost"
   ]
  },
  {
   "cell_type": "code",
   "execution_count": null,
   "metadata": {
    "id": "GXcWgeNTt-lv"
   },
   "outputs": [],
   "source": [
    "makeCatCols=['geo_level_1_id','geo_level_2_id','geo_level_3_id','land_surface_condition', 'foundation_type', 'roof_type',\n",
    "       'ground_floor_type', 'other_floor_type', 'position',\n",
    "       'plan_configuration', 'legal_ownership_status','count_floors_pre_eq', 'has_superstructure_adobe_mud',\n",
    "       'has_superstructure_mud_mortar_stone', 'has_superstructure_stone_flag',\n",
    "       'has_superstructure_cement_mortar_stone',\n",
    "       'has_superstructure_mud_mortar_brick',\n",
    "       'has_superstructure_cement_mortar_brick', 'has_superstructure_timber',\n",
    "       'has_superstructure_bamboo', 'has_superstructure_rc_non_engineered',\n",
    "       'has_superstructure_rc_engineered', 'has_superstructure_other',\n",
    "       'legal_ownership_status', 'has_secondary_use',\n",
    "       'has_secondary_use_agriculture', 'has_secondary_use_hotel',\n",
    "       'has_secondary_use_rental', 'has_secondary_use_institution',\n",
    "       'has_secondary_use_school', 'has_secondary_use_industry',\n",
    "       'has_secondary_use_health_post', 'has_secondary_use_gov_office',\n",
    "       'has_secondary_use_use_police', 'has_secondary_use_other', 'number_of_different_superstructures', 'number_of_secondary_uses']\n",
    "\n",
    "\n",
    "df_cat = load_dataset()\n",
    "\n",
    "X_train=df_cat.drop(columns=['building_id', 'damage_grade'])\n",
    "y=df_cat['damage_grade']\n",
    "\n",
    "pp = Preprocessor(compressCols=True, makeCatCols=makeCatCols)\n",
    "\n",
    "pp.fit(X_train,y)\n",
    "X_train=pp.transform(X_train)\n",
    "\n",
    "###### TEST\n",
    "\n",
    "X_test = load_dataset(train=False)\n",
    "\n",
    "building_ids = X_test['building_id']\n",
    "X_test = X_test.drop(columns=['building_id'])\n",
    "\n",
    "cat_model = pickle.load(open(\"./models/CatBoostClassifier.pkl\", \"rb\"))\n",
    "\n",
    "X_test = pp.transform(X_test)\n",
    "\n",
    "y_pred_cat = cat_model.predict(X_test)\n",
    "y_pred_proba_cat = cat_model.predict_proba(X_test)"
   ]
  },
  {
   "cell_type": "code",
   "execution_count": null,
   "metadata": {
    "id": "vgBUsSkjvNIR"
   },
   "outputs": [],
   "source": [
    "X_sub_cat = pd.DataFrame(building_ids)\n",
    "X_sub_cat['damage_grade'] = y_pred_cat\n",
    "\n",
    "X_sub_cat.to_csv(f\"./prediction/LightGBM_sub.csv\", index = False)"
   ]
  },
  {
   "cell_type": "markdown",
   "metadata": {},
   "source": [
    "#### Ensembles"
   ]
  },
  {
   "cell_type": "code",
   "execution_count": null,
   "metadata": {},
   "outputs": [],
   "source": [
    "y_pred_proba_ensembles = []\n",
    "\n",
    "y_pred_proba_ensembles.append(y_pred_proba_rf)\n",
    "y_pred_proba_ensembles.append(y_pred_proba_lgbm)\n",
    "y_pred_proba_ensembles.append(y_pred_proba_cat)\n",
    "\n",
    "y_pred_proba_ensembles = np.array(y_pred_proba_ensembles)\n",
    "\n",
    "y_pred_ensembles = majority_vote(y_pred_proba_ensembles, [0.7, 1., 1.2])"
   ]
  },
  {
   "cell_type": "code",
   "execution_count": null,
   "metadata": {},
   "outputs": [],
   "source": [
    "X_sub_ens = pd.DataFrame(building_ids)\n",
    "X_sub_ens['damage_grade'] = y_pred_ensembles\n",
    "\n",
    "X_sub_ens.to_csv(f\"./prediction/Ensembles_sub.csv\", index = False)"
   ]
  }
 ],
 "metadata": {
  "colab": {
   "provenance": []
  },
  "kernelspec": {
   "display_name": "Python 3",
   "language": "python",
   "name": "python3"
  },
  "language_info": {
   "codemirror_mode": {
    "name": "ipython",
    "version": 3
   },
   "file_extension": ".py",
   "mimetype": "text/x-python",
   "name": "python",
   "nbconvert_exporter": "python",
   "pygments_lexer": "ipython3",
   "version": "3.8.8"
  },
  "vscode": {
   "interpreter": {
    "hash": "4cfdb715c960120b58a7e9abb5b681a76ae27e229ae2f4cea6a3176ca5214ecb"
   }
  }
 },
 "nbformat": 4,
 "nbformat_minor": 1
}
